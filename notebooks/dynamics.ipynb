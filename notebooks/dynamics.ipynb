{
 "cells": [
  {
   "cell_type": "code",
   "execution_count": 38,
   "id": "d963ccc6",
   "metadata": {},
   "outputs": [
    {
     "name": "stdout",
     "output_type": "stream",
     "text": [
      "found models:  ['model_epoch_17.pkl', 'model_epoch_16.pkl', 'model_epoch_14.pkl', 'model_epoch_15.pkl', 'model_epoch_11.pkl', 'model_epoch_10.pkl', 'model_epoch_9.pkl', 'model_epoch_12.pkl', 'model_epoch_13.pkl', 'model_epoch_8.pkl', 'model_epoch_5.pkl', 'model_epoch_4.pkl', 'model_epoch_6.pkl', 'model_epoch_7.pkl', 'model_epoch_3.pkl', 'model_epoch_18.pkl', 'model_epoch_19.pkl', 'model_epoch_2.pkl', 'model_epoch_0.pkl', 'model_epoch_1.pkl', 'model_epoch_-1.pkl']\n"
     ]
    }
   ],
   "source": [
    "import torch \n",
    "import numpy as np\n",
    "import pickle \n",
    "import os\n",
    "from src.data import prepare_mnist\n",
    "model_path = \"/Users/willinki/GIT/Biological-Learning/outputs/prova/long_epochs/model\"\n",
    "models = os.listdir(model_path)\n",
    "\n",
    "def load_model(epoch: int):\n",
    "    model_file = os.path.join(model_path, f\"model_epoch_{epoch}.pkl\")\n",
    "    if not os.path.exists(model_file):\n",
    "        raise FileNotFoundError(f\"Model file {model_file} does not exist.\")\n",
    "    with open(model_file, 'rb') as f:\n",
    "        model = pickle.load(f)\n",
    "    return model\n",
    "\n",
    "def relaxation_trajectory(classifier, x, y, max_steps, state=None):\n",
    "    states = []\n",
    "    unsats = []\n",
    "    if state is None:\n",
    "        state = classifier.initialize_state(x, y, \"zeros\")\n",
    "    for step in range(max_steps):\n",
    "        state, _, unsat = classifier.relax(\n",
    "            state,\n",
    "            max_steps=1,\n",
    "            ignore_right=0,\n",
    "        )\n",
    "        states.append(state.clone())\n",
    "        unsats.append(unsat.clone())\n",
    "    for step in range(max_steps):\n",
    "        state, _, unsat = classifier.relax(\n",
    "            state,\n",
    "            max_steps=1,\n",
    "            ignore_right=1,\n",
    "        )\n",
    "        states.append(state.clone())\n",
    "        unsats.append(unsat.clone())\n",
    "    states = torch.stack(states, dim=0)  # T, B, L, N\n",
    "    states = states.permute(1, 0, 2, 3)  # B, T, L, N\n",
    "    unsats = torch.stack(unsats, dim=0)  # T, B, L, N\n",
    "    unsats = unsats.permute(1, 0, 2, 3)  # B, T, L, N\n",
    "    return states, unsats\n",
    "\n",
    "def pairwise_overlap(state_1, state_2):\n",
    "    \"\"\"\n",
    "    Computes the pairwise overlap between two states.\n",
    "    \"\"\"\n",
    "    state_1, state_2 = state_1.to(torch.float16), state_2.to(torch.float16)\n",
    "    overlaps = (state_1 * state_2).sum(dim=-1) / state_1.shape[-1]\n",
    "    return overlaps\n",
    "\n",
    "P = 100\n",
    "C = 10\n",
    "P_eval = 100\n",
    "N = 100\n",
    "binarize = True\n",
    "seed = 17\n",
    "device=\"mps\"\n",
    "train_inputs, train_targets, eval_inputs, eval_targets, projection_matrix = (\n",
    "    prepare_mnist(\n",
    "        P * C,\n",
    "        P_eval * C,\n",
    "        N,\n",
    "        binarize,\n",
    "        seed,\n",
    "        shuffle=True,\n",
    "    )\n",
    ")\n",
    "train_inputs = train_inputs.to(device)\n",
    "train_targets = train_targets.to(device)\n",
    "eval_inputs = eval_inputs.to(device)\n",
    "eval_targets = eval_targets.to(device)\n",
    "print(\"found models: \", models)"
   ]
  },
  {
   "cell_type": "code",
   "execution_count": 113,
   "id": "232d7066",
   "metadata": {},
   "outputs": [],
   "source": [
    "classifier = load_model(16)"
   ]
  },
  {
   "cell_type": "code",
   "execution_count": null,
   "id": "56088452",
   "metadata": {},
   "outputs": [],
   "source": [
    "import seaborn as sns\n",
    "from src.handler import Handler\n",
    "from itertools import combinations\n",
    "from typing import Dict\n",
    "import pandas as pd\n",
    "\n",
    "def compute_overlap_evolution(states, times) -> Dict[str, torch.Tensor]:\n",
    "    # data, time, state\n",
    "    overlaps_stats = {}\n",
    "    for time1, time2 in combinations(times, 2):\n",
    "        state_1 = states[:, time1, :]\n",
    "        state_2 = states[:, time2, :]\n",
    "        overlaps = (state_1 * state_2).sum(dim=-1) / state_1.shape[-1]\n",
    "        overlaps_stats[f\"{time1}-{time2}\"] = overlaps\n",
    "    return overlaps_stats\n",
    "\n",
    "def plot_overlap_from_key(overlaps_stats, key):\n",
    "    xy = [\n",
    "        (\n",
    "            float(k.split('-')[1]),\n",
    "            overlaps_stats[k]\n",
    "        ) \n",
    "        for k in overlaps_stats.keys() if k.startswith(key)\n",
    "    ]\n",
    "    print(len(xy), \"overlaps found for key\", key)\n",
    "    x = [item[0] for item in xy]\n",
    "    y = [item[1].mean().item() for item in xy]\n",
    "    y_err = [item[1].std().item() for item in xy]\n",
    "    return x, y, y_err\n",
    "\n",
    "def table_overlap_evolution(overlaps_stats, keys):\n",
    "    rows = []\n",
    "    for key in keys:\n",
    "        x, y, y_err = plot_overlap_from_key(overlaps_stats, key)\n",
    "        for xi, yi, yerri in zip(x, y, y_err):\n",
    "            rows.append({'key': f\"{key}-{int(xi)}\", 'y': yi, 'y_err': yerri})\n",
    "    df_table = pd.DataFrame(rows)\n",
    "    display(df_table)\n",
    "     \n",
    "\n",
    "num_layers = 1\n",
    "states, unsats = relaxation_trajectory(\n",
    "    classifier,\n",
    "    train_inputs,\n",
    "    train_targets,\n",
    "    max_steps=10,\n",
    ")"
   ]
  },
  {
   "cell_type": "code",
   "execution_count": 115,
   "id": "6248f5f3",
   "metadata": {},
   "outputs": [],
   "source": [
    "states_1 = states[:, :, 1, :]  # B, T, L, N"
   ]
  },
  {
   "cell_type": "code",
   "execution_count": 120,
   "id": "160a5224",
   "metadata": {},
   "outputs": [],
   "source": [
    "overlap_stats = compute_overlap_evolution(states_1, [0, 4, 9, 14, 19])"
   ]
  },
  {
   "cell_type": "code",
   "execution_count": 121,
   "id": "c9925973",
   "metadata": {},
   "outputs": [
    {
     "name": "stdout",
     "output_type": "stream",
     "text": [
      "1 overlaps found for key 0-9\n",
      "1 overlaps found for key 9-19\n"
     ]
    },
    {
     "data": {
      "text/html": [
       "<div>\n",
       "<style scoped>\n",
       "    .dataframe tbody tr th:only-of-type {\n",
       "        vertical-align: middle;\n",
       "    }\n",
       "\n",
       "    .dataframe tbody tr th {\n",
       "        vertical-align: top;\n",
       "    }\n",
       "\n",
       "    .dataframe thead th {\n",
       "        text-align: right;\n",
       "    }\n",
       "</style>\n",
       "<table border=\"1\" class=\"dataframe\">\n",
       "  <thead>\n",
       "    <tr style=\"text-align: right;\">\n",
       "      <th></th>\n",
       "      <th>key</th>\n",
       "      <th>y</th>\n",
       "      <th>y_err</th>\n",
       "    </tr>\n",
       "  </thead>\n",
       "  <tbody>\n",
       "    <tr>\n",
       "      <th>0</th>\n",
       "      <td>0-9-9</td>\n",
       "      <td>0.939308</td>\n",
       "      <td>0.025686</td>\n",
       "    </tr>\n",
       "    <tr>\n",
       "      <th>1</th>\n",
       "      <td>9-19-19</td>\n",
       "      <td>1.000000</td>\n",
       "      <td>0.000000</td>\n",
       "    </tr>\n",
       "  </tbody>\n",
       "</table>\n",
       "</div>"
      ],
      "text/plain": [
       "       key         y     y_err\n",
       "0    0-9-9  0.939308  0.025686\n",
       "1  9-19-19  1.000000  0.000000"
      ]
     },
     "metadata": {},
     "output_type": "display_data"
    }
   ],
   "source": [
    "table_overlap_evolution(overlap_stats, [\"0-9\", \"9-19\"])"
   ]
  }
 ],
 "metadata": {
  "kernelspec": {
   "display_name": ".venv",
   "language": "python",
   "name": "python3"
  },
  "language_info": {
   "codemirror_mode": {
    "name": "ipython",
    "version": 3
   },
   "file_extension": ".py",
   "mimetype": "text/x-python",
   "name": "python",
   "nbconvert_exporter": "python",
   "pygments_lexer": "ipython3",
   "version": "3.11.11"
  }
 },
 "nbformat": 4,
 "nbformat_minor": 5
}
