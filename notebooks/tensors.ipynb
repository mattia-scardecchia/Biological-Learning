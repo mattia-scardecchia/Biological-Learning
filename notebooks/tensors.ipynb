{
 "cells": [
  {
   "cell_type": "code",
   "execution_count": 51,
   "metadata": {},
   "outputs": [
    {
     "name": "stdout",
     "output_type": "stream",
     "text": [
      "J: shape [3, 10, 30]\n",
      "\n",
      "S: shape [4, 5, 10]\n"
     ]
    }
   ],
   "source": [
    "import torch\n",
    "\n",
    "# Set small dimensions for clarity\n",
    "B = 4  # batch size\n",
    "L = 2  # so J has L+1=3 matrices and S has L+3=5 rows\n",
    "N = 10  # feature dimension\n",
    "\n",
    "# Create J and S with sequential numbers\n",
    "J = torch.arange((L + 1) * N * (3 * N), dtype=torch.float).reshape(L + 1, N, 3 * N)\n",
    "S = torch.arange(B * (L + 3) * N, dtype=torch.float).reshape(B, L + 3, N)\n",
    "\n",
    "print(f\"J: shape {list(J.shape)}\")\n",
    "# print(J)\n",
    "print(f\"\\nS: shape {list(S.shape)}\")\n",
    "# print(S)\n",
    "\n",
    "assert J.shape == (L + 1, N, 3 * N), f\"J shape mismatch: {J.shape}\"\n",
    "assert S.shape == (B, L + 3, N), f\"S shape mismatch: {S.shape}\""
   ]
  },
  {
   "cell_type": "code",
   "execution_count": 52,
   "metadata": {},
   "outputs": [
    {
     "name": "stdout",
     "output_type": "stream",
     "text": [
      "\n",
      "S_unfolded: shape [4, 3, 30]\n"
     ]
    }
   ],
   "source": [
    "S_unfolded = S.unfold(1, 3, 1).transpose(-2, -1).flatten(2)  # Shape: (B, L+1, 3*N)\n",
    "\n",
    "print(f\"\\nS_unfolded: shape {list(S_unfolded.shape)}\")\n",
    "# print(S_unfolded)\n",
    "\n",
    "assert S_unfolded.shape == (B, L + 1, 3 * N), (\n",
    "    f\"S_unfolded shape mismatch: {S_unfolded.shape}\"\n",
    ")"
   ]
  },
  {
   "cell_type": "code",
   "execution_count": 53,
   "metadata": {},
   "outputs": [
    {
     "name": "stdout",
     "output_type": "stream",
     "text": [
      "\n",
      "result: shape [4, 3, 10]\n"
     ]
    }
   ],
   "source": [
    "# batched matrix-vector multiplication of J and S_unfolded.\n",
    "# J: (L+1, N, 3*N) * S_unfolded: (B, L+1, 3*N) -> result: (B, L+1, N)\n",
    "\n",
    "result = torch.einsum(\"lni,bli->bln\", J, S_unfolded)\n",
    "print(f\"\\nresult: shape {list(result.shape)}\")\n",
    "# print(result)\n",
    "\n",
    "assert result.shape == (B, L + 1, N), f\"result shape mismatch: {result.shape}\""
   ]
  },
  {
   "cell_type": "code",
   "execution_count": 56,
   "metadata": {},
   "outputs": [
    {
     "data": {
      "text/plain": [
       "tensor([True, True, True, True, True, True, True, True, True, True])"
      ]
     },
     "execution_count": 56,
     "metadata": {},
     "output_type": "execute_result"
    }
   ],
   "source": [
    "b, l = 2, 1\n",
    "\n",
    "result[b, l, :] == J[l, :, :] @ S_unfolded[b, l, :]"
   ]
  },
  {
   "cell_type": "markdown",
   "metadata": {},
   "source": [
    "## Debug"
   ]
  },
  {
   "cell_type": "code",
   "execution_count": 1,
   "metadata": {},
   "outputs": [],
   "source": [
    "import torch\n",
    "\n",
    "from src.batch_me_if_u_can import BatchMeIfUCan\n",
    "\n",
    "# Global parameters\n",
    "NUM_LAYERS = 3\n",
    "N = 64\n",
    "C = 10\n",
    "J_D = 0.5\n",
    "LAMBDA_LEFT = [2.0] * (NUM_LAYERS + 1)\n",
    "LAMBDA_RIGHT = [3.0] * (NUM_LAYERS + 1)\n",
    "DEVICE = \"cpu\"\n",
    "SEED = 42\n",
    "\n",
    "# Instantiate the class\n",
    "classifier = BatchMeIfUCan(\n",
    "    num_layers=NUM_LAYERS,\n",
    "    N=N,\n",
    "    C=C,\n",
    "    J_D=J_D,\n",
    "    lambda_left=LAMBDA_LEFT,\n",
    "    lambda_right=LAMBDA_RIGHT,\n",
    "    device=DEVICE,\n",
    "    seed=SEED,\n",
    ")"
   ]
  },
  {
   "cell_type": "code",
   "execution_count": 2,
   "metadata": {},
   "outputs": [
    {
     "data": {
      "text/plain": [
       "(torch.Size([64, 192]), 4)"
      ]
     },
     "execution_count": 2,
     "metadata": {},
     "output_type": "execute_result"
    }
   ],
   "source": [
    "J = classifier.couplings\n",
    "J[0].shape, len(J)"
   ]
  },
  {
   "cell_type": "code",
   "execution_count": 3,
   "metadata": {},
   "outputs": [
    {
     "data": {
      "text/plain": [
       "tensor([[-0.3162,  0.3162, -0.3162,  ...,  0.0000,  0.0000,  0.0000],\n",
       "        [ 0.3162, -0.3162,  0.3162,  ...,  0.0000,  0.0000,  0.0000],\n",
       "        [ 0.3162,  0.3162,  0.3162,  ...,  0.0000,  0.0000,  0.0000],\n",
       "        ...,\n",
       "        [ 0.3162, -0.3162,  0.3162,  ...,  0.0000,  0.0000,  0.0000],\n",
       "        [-0.3162, -0.3162,  0.3162,  ...,  0.0000,  0.0000,  0.0000],\n",
       "        [-0.3162, -0.3162,  0.3162,  ...,  0.0000,  0.0000,  0.0000]])"
      ]
     },
     "execution_count": 3,
     "metadata": {},
     "output_type": "execute_result"
    }
   ],
   "source": [
    "i = -2\n",
    "j = 2\n",
    "\n",
    "J[i, :, j * N : (j + 1) * N]"
   ]
  },
  {
   "cell_type": "code",
   "execution_count": 6,
   "metadata": {},
   "outputs": [
    {
     "data": {
      "text/plain": [
       "torch.Size([4, 6, 64])"
      ]
     },
     "execution_count": 6,
     "metadata": {},
     "output_type": "execute_result"
    }
   ],
   "source": [
    "state = classifier.initialize_state(4, torch.ones(4, N), 2 * torch.ones(4, C))\n",
    "state.shape"
   ]
  },
  {
   "cell_type": "code",
   "execution_count": 18,
   "metadata": {},
   "outputs": [
    {
     "data": {
      "text/plain": [
       "tensor([-1.,  1.,  1.,  1.,  1.,  1.,  1., -1.,  1.,  1.,  0.,  0.,  0.,  0.,\n",
       "         0.,  0.,  0.,  0.,  0.,  0.,  0.,  0.,  0.,  0.,  0.,  0.,  0.,  0.,\n",
       "         0.,  0.,  0.,  0.,  0.,  0.,  0.,  0.,  0.,  0.,  0.,  0.,  0.,  0.,\n",
       "         0.,  0.,  0.,  0.,  0.,  0.,  0.,  0.,  0.,  0.,  0.,  0.,  0.,  0.,\n",
       "         0.,  0.,  0.,  0.,  0.,  0.,  0.,  0.])"
      ]
     },
     "execution_count": 18,
     "metadata": {},
     "output_type": "execute_result"
    }
   ],
   "source": [
    "b = 0\n",
    "i = -2\n",
    "state[b, i]"
   ]
  }
 ],
 "metadata": {
  "kernelspec": {
   "display_name": "bio",
   "language": "python",
   "name": "python3"
  },
  "language_info": {
   "codemirror_mode": {
    "name": "ipython",
    "version": 3
   },
   "file_extension": ".py",
   "mimetype": "text/x-python",
   "name": "python",
   "nbconvert_exporter": "python",
   "pygments_lexer": "ipython3",
   "version": "3.11.11"
  }
 },
 "nbformat": 4,
 "nbformat_minor": 2
}
